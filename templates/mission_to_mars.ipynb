{
 "cells": [
  {
   "cell_type": "markdown",
   "metadata": {},
   "source": [
    "# Mission to Mars"
   ]
  },
  {
   "cell_type": "markdown",
   "metadata": {},
   "source": [
    "### Unit 12 Web Scraping Homework¶\n",
    "Author: Vivianti Santosa <br>\n",
    "Date: 2020-08-08 <br>\n",
    "\n",
    "In this assignment, you will build a web application that scrapes various websites related to the Mission to Mars, save it in MongoDB, and displays the information in a single HTML page."
   ]
  },
  {
   "cell_type": "code",
   "execution_count": 33,
   "metadata": {},
   "outputs": [],
   "source": [
    "# depndencies\n",
    "import pandas as pd\n",
    "import requests\n",
    "from splinter import Browser\n",
    "from bs4 import BeautifulSoup as bs\n",
    "from pprint import pprint\n",
    "import time\n",
    "import re"
   ]
  },
  {
   "cell_type": "code",
   "execution_count": 2,
   "metadata": {},
   "outputs": [],
   "source": [
    "executable_path = {'executable_path': 'chromedriver.exe'}"
   ]
  },
  {
   "cell_type": "markdown",
   "metadata": {},
   "source": [
    "## NASA Mars News"
   ]
  },
  {
   "cell_type": "markdown",
   "metadata": {},
   "source": [
    "https://mars.nasa.gov/news/"
   ]
  },
  {
   "cell_type": "markdown",
   "metadata": {},
   "source": [
    "Scrape the NASA Mars News Site and collect the latest News Title and Paragraph Text.<br> Assigning the text to variables that can be reference later."
   ]
  },
  {
   "cell_type": "code",
   "execution_count": 3,
   "metadata": {},
   "outputs": [],
   "source": [
    "# set browser with url of NASA Mars program\n",
    "browser = Browser('chrome', **executable_path, headless=False)\n",
    "url1 = 'https://mars.nasa.gov/news/'\n",
    "browser.visit(url1)\n",
    "\n",
    "# set up parser\n",
    "html = browser.html\n",
    "soup = bs(html, 'lxml')"
   ]
  },
  {
   "cell_type": "code",
   "execution_count": 4,
   "metadata": {},
   "outputs": [],
   "source": [
    "# get latest news articles\n",
    "news_title = soup.find_all('div', class_='content_title')[1].text\n",
    "news_article = soup.find('div', class_='article_teaser_body').text\n",
    "date = soup.find('div', class_='list_date').text"
   ]
  },
  {
   "cell_type": "code",
   "execution_count": 5,
   "metadata": {},
   "outputs": [],
   "source": [
    "# close browser\n",
    "browser.quit()"
   ]
  },
  {
   "cell_type": "code",
   "execution_count": 6,
   "metadata": {
    "scrolled": false
   },
   "outputs": [
    {
     "name": "stdout",
     "output_type": "stream",
     "text": [
      "{'Date': 'August  6, 2020',\n",
      " 'NewsArticle': 'Vast areas of the Martian night sky pulse in ultraviolet '\n",
      "                'light, according to images from NASA’s MAVEN spacecraft. The '\n",
      "                'results are being used to illuminate complex circulation '\n",
      "                'patterns in the Martian atmosphere.',\n",
      " 'NewsTitle': \"NASA's MAVEN Observes Martian Night Sky Pulsing in Ultraviolet \"\n",
      "              'Light'}\n"
     ]
    }
   ],
   "source": [
    "# create Mars_News dictionary\n",
    "Mars_News_Dict = {\"NewsTitle\": news_title,\n",
    "                  \"NewsArticle\":news_article,\n",
    "                  \"Date\":date}\n",
    "pprint(Mars_News_Dict)"
   ]
  },
  {
   "cell_type": "code",
   "execution_count": null,
   "metadata": {},
   "outputs": [],
   "source": []
  },
  {
   "cell_type": "markdown",
   "metadata": {},
   "source": [
    "## JPL Mars Space Images - Featured Image"
   ]
  },
  {
   "cell_type": "markdown",
   "metadata": {},
   "source": [
    "https://www.jpl.nasa.gov/spaceimages/?search=&category=Mars"
   ]
  },
  {
   "cell_type": "markdown",
   "metadata": {},
   "source": [
    "Use splinter to navigate the site.<br>\n",
    "Get the url string for the current Featured Mars Image and assign it to a variable called featured_image_url.<br>\n",
    "Save the complete url string for this image."
   ]
  },
  {
   "cell_type": "code",
   "execution_count": 7,
   "metadata": {
    "scrolled": true
   },
   "outputs": [
    {
     "name": "stderr",
     "output_type": "stream",
     "text": [
      "C:\\ProgramData\\Anaconda3\\lib\\site-packages\\splinter\\driver\\webdriver\\__init__.py:528: FutureWarning: browser.find_link_by_partial_text is deprecated. Use browser.links.find_by_partial_text instead.\n",
      "  FutureWarning,\n"
     ]
    }
   ],
   "source": [
    "# set browser with url of NASA Mars program\n",
    "browser = Browser('chrome', **executable_path, headless=False)\n",
    "url2 = 'https://www.jpl.nasa.gov/spaceimages/?search=&category=Mars'\n",
    "browser.visit(url2)\n",
    "\n",
    "# click FULLIMAGE button\n",
    "FullImageButton = browser.find_by_id('full_image')\n",
    "FullImageButton.click()\n",
    "\n",
    "# click the \"more info\" button\n",
    "#browser.is_element_present_by_text('more info', wait_time=1)\n",
    "moreInfoButton = browser.find_link_by_partial_text('more info')\n",
    "moreInfoButton.click()"
   ]
  },
  {
   "cell_type": "code",
   "execution_count": 8,
   "metadata": {},
   "outputs": [],
   "source": [
    "# set up parser\n",
    "html = browser.html\n",
    "soup = bs(html, 'lxml')"
   ]
  },
  {
   "cell_type": "code",
   "execution_count": 9,
   "metadata": {
    "scrolled": true
   },
   "outputs": [
    {
     "data": {
      "text/plain": [
       "'/spaceimages/images/largesize/PIA17841_hires.jpg'"
      ]
     },
     "execution_count": 9,
     "metadata": {},
     "output_type": "execute_result"
    }
   ],
   "source": [
    "soup.find('img', class_=\"main_image\")['src']"
   ]
  },
  {
   "cell_type": "code",
   "execution_count": 10,
   "metadata": {},
   "outputs": [
    {
     "data": {
      "text/plain": [
       "\"NASA's NuSTAR has, for the first time, imaged the radioactive 'guts' of a supernova remnant, the leftover remains of a star that exploded. The NuSTAR data are blue, and show high-energy X-rays.\""
      ]
     },
     "execution_count": 10,
     "metadata": {},
     "output_type": "execute_result"
    }
   ],
   "source": [
    "soup.find('img', class_=\"main_image\")['title']"
   ]
  },
  {
   "cell_type": "code",
   "execution_count": 11,
   "metadata": {},
   "outputs": [],
   "source": [
    "# get url of the featured image_\n",
    "featured_image_url = soup.select_one('figure.lede a img').get(\"src\")\n",
    "title = soup.select_one('figure.lede a img').get(\"title\")"
   ]
  },
  {
   "cell_type": "code",
   "execution_count": null,
   "metadata": {},
   "outputs": [],
   "source": []
  },
  {
   "cell_type": "code",
   "execution_count": 12,
   "metadata": {},
   "outputs": [],
   "source": [
    "# close browser\n",
    "browser.quit()"
   ]
  },
  {
   "cell_type": "code",
   "execution_count": 13,
   "metadata": {},
   "outputs": [
    {
     "name": "stdout",
     "output_type": "stream",
     "text": [
      "{'Feature Url': '/spaceimages/images/largesize/PIA17841_hires.jpg',\n",
      " 'Title': \"NASA's NuSTAR has, for the first time, imaged the radioactive \"\n",
      "          \"'guts' of a supernova remnant, the leftover remains of a star that \"\n",
      "          'exploded. The NuSTAR data are blue, and show high-energy X-rays.'}\n"
     ]
    }
   ],
   "source": [
    "# create dictionary of feature image url\n",
    "featured_image_url_dict = {\"Feature Url\": featured_image_url,\n",
    "                      \"Title\":title}\n",
    "pprint(featured_image_url_dict) "
   ]
  },
  {
   "cell_type": "code",
   "execution_count": 14,
   "metadata": {},
   "outputs": [],
   "source": [
    "# https://www.jpl.nasa.gov/spaceimages/images/largesize/PIA14400_hires.jpg"
   ]
  },
  {
   "cell_type": "markdown",
   "metadata": {},
   "source": [
    "## Mars Weather"
   ]
  },
  {
   "cell_type": "markdown",
   "metadata": {},
   "source": [
    "https://twitter.com/marswxreport?lang=en"
   ]
  },
  {
   "cell_type": "markdown",
   "metadata": {},
   "source": [
    "Scrape the latest Mars weather tweet to obtain Mars weather report. \n",
    "Save the tweet text for the weather report as a variable called mars_weather."
   ]
  },
  {
   "cell_type": "code",
   "execution_count": 25,
   "metadata": {},
   "outputs": [],
   "source": [
    "# set browser with url of twitter Mars weather\n",
    "browser = Browser('chrome', **executable_path, headless=False)\n",
    "\n",
    "url3 = 'https://twitter.com/marswxreport?lang=en'\n",
    "browser.visit(url3)\n",
    "time.sleep(5)\n",
    "\n",
    "# set up parser\n",
    "html = browser.html\n",
    "soup = bs(html, 'html.parser')"
   ]
  },
  {
   "cell_type": "code",
   "execution_count": 34,
   "metadata": {},
   "outputs": [
    {
     "data": {
      "text/plain": [
       "'InSight sol 605 (2020-08-09) low -92.7ºC (-134.8ºF) high -18.4ºC (-1.1ºF)\\nwinds from the WNW at 8.8 m/s (19.7 mph) gusting to 22.5 m/s (50.4 mph)\\npressure at 7.90 hPa'"
      ]
     },
     "execution_count": 34,
     "metadata": {},
     "output_type": "execute_result"
    }
   ],
   "source": [
    "pattern = re.compile(r'sol')\n",
    "soup.find(\"span\", text=pattern).text"
   ]
  },
  {
   "cell_type": "code",
   "execution_count": null,
   "metadata": {},
   "outputs": [],
   "source": []
  },
  {
   "cell_type": "markdown",
   "metadata": {},
   "source": [
    "## Mars Facts"
   ]
  },
  {
   "cell_type": "markdown",
   "metadata": {},
   "source": [
    "https://space-facts.com/mars/"
   ]
  },
  {
   "cell_type": "markdown",
   "metadata": {},
   "source": [
    "Use Pandas to scrape the table containing facts about the planet including Diameter, Mass, etc.<br>\n",
    "Convert the data to a HTML table string."
   ]
  },
  {
   "cell_type": "code",
   "execution_count": null,
   "metadata": {},
   "outputs": [],
   "source": [
    "# get url of the table to be scraped\n",
    "url4 = 'https://space-facts.com/mars/'"
   ]
  },
  {
   "cell_type": "code",
   "execution_count": null,
   "metadata": {
    "scrolled": true
   },
   "outputs": [],
   "source": [
    "# use pandas to read the tables\n",
    "tables = pd.read_html(url4)\n",
    "tables"
   ]
  },
  {
   "cell_type": "code",
   "execution_count": null,
   "metadata": {
    "scrolled": true
   },
   "outputs": [],
   "source": [
    "df= tables[0]\n",
    "df.columns = ['Features','Values']\n",
    "df"
   ]
  },
  {
   "cell_type": "code",
   "execution_count": null,
   "metadata": {},
   "outputs": [],
   "source": [
    "df.to_html('Mars_Facts.html')"
   ]
  },
  {
   "cell_type": "code",
   "execution_count": null,
   "metadata": {},
   "outputs": [],
   "source": []
  },
  {
   "cell_type": "markdown",
   "metadata": {},
   "source": [
    "## Mars Hemispheres"
   ]
  },
  {
   "cell_type": "markdown",
   "metadata": {},
   "source": [
    "https://astrogeology.usgs.gov/search/results?q=hemisphere+enhanced&k1=target&v1=Mars"
   ]
  },
  {
   "cell_type": "markdown",
   "metadata": {},
   "source": [
    "Obtain high resolution images for each of Mar's hemispheres from USGS Astrogeology site.<br>\n",
    "Save both the image url string for the full resolution hemisphere image, and the Hemisphere title containing the hemisphere name. Use a Python dictionary to store the data using the keys img_url and title.<br>"
   ]
  },
  {
   "cell_type": "code",
   "execution_count": null,
   "metadata": {},
   "outputs": [],
   "source": [
    "# set browser with url of Mars Hemispheres\n",
    "executable_path = {'executable_path': 'chromedriver.exe'}\n",
    "browser = Browser('chrome', **executable_path, headless=False)\n",
    "url5 = 'https://astrogeology.usgs.gov/search/results?q=hemisphere+enhanced&k1=target&v1=Mars'\n",
    "browser.visit(url5)"
   ]
  },
  {
   "cell_type": "code",
   "execution_count": null,
   "metadata": {},
   "outputs": [],
   "source": [
    "# check list of all link to mars hemispheres pages\n",
    "links = browser.find_by_css(\"a.product-item h3\")\n",
    "\n",
    "for link in links:\n",
    "    print(link.text)"
   ]
  },
  {
   "cell_type": "code",
   "execution_count": null,
   "metadata": {},
   "outputs": [],
   "source": [
    "#Create dictionary of mars hemisphere images\n",
    "HemisphereImg_Dict = []\n",
    "\n",
    "for i in range(0, len(links)):\n",
    "    # navigate to the specific page\n",
    "    link = browser.find_by_css(\"a.product-item h3\")[i]\n",
    "    print(link.text)\n",
    "    link.click()                 \n",
    "\n",
    "    # scrape\n",
    "    soup = bs(browser.html, 'lxml')   # set up parser \n",
    "    image_ulr = soup.find('img', class_=\"wide-image\")['src']   # get image's ulr\n",
    "    title = soup.find('h2').text                               # get title\n",
    "    \n",
    "    # put in dictionary\n",
    "    image_dict = {\"Image_ULR\": image_ulr,   \n",
    "                  \"Title\":title}            \n",
    "    HemisphereImg_Dict.append(image_dict)       # append dict to list\n",
    "    \n",
    "    # navigate to previous page      \n",
    "    browser.back()                              "
   ]
  },
  {
   "cell_type": "code",
   "execution_count": null,
   "metadata": {},
   "outputs": [],
   "source": [
    "# close browser\n",
    "browser.quit()"
   ]
  },
  {
   "cell_type": "code",
   "execution_count": null,
   "metadata": {},
   "outputs": [],
   "source": [
    "HemisphereImg_Dict"
   ]
  },
  {
   "cell_type": "code",
   "execution_count": null,
   "metadata": {},
   "outputs": [],
   "source": []
  }
 ],
 "metadata": {
  "kernelspec": {
   "display_name": "Python 3",
   "language": "python",
   "name": "python3"
  },
  "language_info": {
   "codemirror_mode": {
    "name": "ipython",
    "version": 3
   },
   "file_extension": ".py",
   "mimetype": "text/x-python",
   "name": "python",
   "nbconvert_exporter": "python",
   "pygments_lexer": "ipython3",
   "version": "3.7.6"
  }
 },
 "nbformat": 4,
 "nbformat_minor": 4
}
