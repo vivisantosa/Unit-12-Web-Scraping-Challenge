{
 "cells": [
  {
   "cell_type": "markdown",
   "metadata": {},
   "source": [
    "# Mission to Mars"
   ]
  },
  {
   "cell_type": "markdown",
   "metadata": {},
   "source": [
    "### Unit 12 Web Scraping Homework¶\n",
    "Author: Vivianti Santosa <br>\n",
    "Date: 2020-08-08 <br>\n",
    "\n",
    "In this assignment, you will build a web application that scrapes various websites related to the Mission to Mars, save it in MongoDB, and displays the information in a single HTML page."
   ]
  },
  {
   "cell_type": "code",
   "execution_count": 230,
   "metadata": {},
   "outputs": [],
   "source": [
    "# depndencies\n",
    "import pandas as pd\n",
    "import requests\n",
    "from splinter import Browser\n",
    "from bs4 import BeautifulSoup as bs\n",
    "from pprint import pprint\n",
    "import time"
   ]
  },
  {
   "cell_type": "code",
   "execution_count": 231,
   "metadata": {},
   "outputs": [],
   "source": [
    "executable_path = {'executable_path': 'chromedriver.exe'}"
   ]
  },
  {
   "cell_type": "markdown",
   "metadata": {},
   "source": [
    "## NASA Mars News"
   ]
  },
  {
   "cell_type": "markdown",
   "metadata": {},
   "source": [
    "https://mars.nasa.gov/news/"
   ]
  },
  {
   "cell_type": "markdown",
   "metadata": {},
   "source": [
    "Scrape the NASA Mars News Site and collect the latest News Title and Paragraph Text.<br> Assigning the text to variables that can be reference later."
   ]
  },
  {
   "cell_type": "code",
   "execution_count": 232,
   "metadata": {},
   "outputs": [],
   "source": [
    "# set browser with url of NASA Mars program\n",
    "browser = Browser('chrome', **executable_path, headless=False)\n",
    "url1 = 'https://mars.nasa.gov/news/'\n",
    "browser.visit(url1)\n",
    "\n",
    "# set up parser\n",
    "html = browser.html\n",
    "soup = bs(html, 'lxml')"
   ]
  },
  {
   "cell_type": "code",
   "execution_count": 233,
   "metadata": {},
   "outputs": [],
   "source": [
    "# get latest news articles\n",
    "title = soup.find_all('div', class_='content_title')[1].text\n",
    "article = soup.find('div', class_='article_teaser_body').text\n",
    "date = soup.find('div', class_='list_date').text"
   ]
  },
  {
   "cell_type": "code",
   "execution_count": 234,
   "metadata": {},
   "outputs": [],
   "source": [
    "# close browser\n",
    "browser.quit()"
   ]
  },
  {
   "cell_type": "code",
   "execution_count": 235,
   "metadata": {
    "scrolled": false
   },
   "outputs": [
    {
     "name": "stdout",
     "output_type": "stream",
     "text": [
      "{'Date': 'August  6, 2020',\n",
      " 'Teaser_Article': 'Vast areas of the Martian night sky pulse in ultraviolet '\n",
      "                   'light, according to images from NASA’s MAVEN spacecraft. '\n",
      "                   'The results are being used to illuminate complex '\n",
      "                   'circulation patterns in the Martian atmosphere.',\n",
      " 'Title': \"NASA's MAVEN Observes Martian Night Sky Pulsing in Ultraviolet \"\n",
      "          'Light'}\n"
     ]
    }
   ],
   "source": [
    "# create Mars_News dictionary\n",
    "Mars_News_Dict = {\"Title\": title,\n",
    "                  \"Teaser_Article\":article,\n",
    "                  \"Date\":date}\n",
    "pprint(Mars_News_Dict)"
   ]
  },
  {
   "cell_type": "code",
   "execution_count": null,
   "metadata": {},
   "outputs": [],
   "source": []
  },
  {
   "cell_type": "markdown",
   "metadata": {},
   "source": [
    "## JPL Mars Space Images - Featured Image"
   ]
  },
  {
   "cell_type": "markdown",
   "metadata": {},
   "source": [
    "https://www.jpl.nasa.gov/spaceimages/?search=&category=Mars"
   ]
  },
  {
   "cell_type": "markdown",
   "metadata": {},
   "source": [
    "Use splinter to navigate the site.<br>\n",
    "Get the url string for the current Featured Mars Image and assign it to a variable called featured_image_url.<br>\n",
    "Save the complete url string for this image."
   ]
  },
  {
   "cell_type": "code",
   "execution_count": 236,
   "metadata": {
    "scrolled": true
   },
   "outputs": [],
   "source": [
    "# set browser with url of NASA Mars program\n",
    "browser = Browser('chrome', **executable_path, headless=False)\n",
    "url2 = 'https://www.jpl.nasa.gov/spaceimages/?search=&category=Mars'\n",
    "browser.visit(url2)\n",
    "\n",
    "# click FULLIMAGE button\n",
    "FullImageButton = browser.find_by_id('full_image')\n",
    "FullImageButton.click()\n",
    "\n",
    "# click the \"more info\" button\n",
    "#browser.is_element_present_by_text('more info', wait_time=1)\n",
    "moreInfoButton = browser.find_link_by_partial_text('more info')\n",
    "moreInfoButton.click()"
   ]
  },
  {
   "cell_type": "code",
   "execution_count": 237,
   "metadata": {},
   "outputs": [],
   "source": [
    "# set up parser\n",
    "html = browser.html\n",
    "soup = bs(html, 'lxml')"
   ]
  },
  {
   "cell_type": "code",
   "execution_count": 238,
   "metadata": {
    "scrolled": true
   },
   "outputs": [
    {
     "data": {
      "text/plain": [
       "'/spaceimages/images/largesize/PIA18851_hires.jpg'"
      ]
     },
     "execution_count": 238,
     "metadata": {},
     "output_type": "execute_result"
    }
   ],
   "source": [
    "soup.find('img', class_=\"main_image\")['src']"
   ]
  },
  {
   "cell_type": "code",
   "execution_count": 239,
   "metadata": {},
   "outputs": [
    {
     "data": {
      "text/plain": [
       "'Our sky is filled with a diffuse background glow, known as the cosmic infrared background. Much of the light is from galaxies we know about, but previous Spitzer measurements have shown an extra component of unknown origin.'"
      ]
     },
     "execution_count": 239,
     "metadata": {},
     "output_type": "execute_result"
    }
   ],
   "source": [
    "soup.find('img', class_=\"main_image\")['title']"
   ]
  },
  {
   "cell_type": "code",
   "execution_count": 240,
   "metadata": {},
   "outputs": [],
   "source": [
    "# get url of the featured image_\n",
    "featured_image_url = soup.select_one('figure.lede a img').get(\"src\")\n",
    "title = soup.select_one('figure.lede a img').get(\"title\")"
   ]
  },
  {
   "cell_type": "code",
   "execution_count": null,
   "metadata": {},
   "outputs": [],
   "source": []
  },
  {
   "cell_type": "code",
   "execution_count": 241,
   "metadata": {},
   "outputs": [],
   "source": [
    "# close browser\n",
    "browser.quit()"
   ]
  },
  {
   "cell_type": "code",
   "execution_count": 242,
   "metadata": {},
   "outputs": [
    {
     "name": "stdout",
     "output_type": "stream",
     "text": [
      "{'Feature Url': '/spaceimages/images/largesize/PIA18851_hires.jpg',\n",
      " 'Title': 'Our sky is filled with a diffuse background glow, known as the '\n",
      "          'cosmic infrared background. Much of the light is from galaxies we '\n",
      "          'know about, but previous Spitzer measurements have shown an extra '\n",
      "          'component of unknown origin.'}\n"
     ]
    }
   ],
   "source": [
    "# create dictionary of feature image url\n",
    "featured_image_url_dict = {\"Feature Url\": featured_image_url,\n",
    "                      \"Title\":title}\n",
    "pprint(featured_image_url_dict) "
   ]
  },
  {
   "cell_type": "code",
   "execution_count": null,
   "metadata": {},
   "outputs": [],
   "source": []
  },
  {
   "cell_type": "markdown",
   "metadata": {},
   "source": [
    "## Mars Weather"
   ]
  },
  {
   "cell_type": "markdown",
   "metadata": {},
   "source": [
    "https://twitter.com/marswxreport?lang=en"
   ]
  },
  {
   "cell_type": "markdown",
   "metadata": {},
   "source": [
    "Scrape the latest Mars weather tweet to obtain Mars weather report. \n",
    "Save the tweet text for the weather report as a variable called mars_weather."
   ]
  },
  {
   "cell_type": "code",
   "execution_count": 243,
   "metadata": {},
   "outputs": [],
   "source": [
    "# set browser with url of twitter Mars weather\n",
    "browser = Browser('chrome', **executable_path, headless=False)\n",
    "\n",
    "url3 = 'https://twitter.com/marswxreport?lang=en'\n",
    "browser.visit(url3)\n",
    "\n",
    "# set up parser\n",
    "html = browser.html\n",
    "soup = bs(html, 'html.parser')"
   ]
  },
  {
   "cell_type": "code",
   "execution_count": 227,
   "metadata": {},
   "outputs": [],
   "source": [
    "#<span class=\"css-901oao css-16my406 r-1qd0xha r-ad9z0x r-bcqeeo r-qvutc0\">InSight sol 603 (2020-08-07) low -91.3ºC (-132.4ºF) high -12.2ºC (10.0ºF)\n",
    "#winds from the W at 6.6 m/s (14.8 mph) gusting to 17.2 m/s (38.4 mph)\n",
    "#pressure at 7.90 hPa</span>"
   ]
  },
  {
   "cell_type": "code",
   "execution_count": 244,
   "metadata": {},
   "outputs": [
    {
     "data": {
      "text/plain": [
       "[]"
      ]
     },
     "execution_count": 244,
     "metadata": {},
     "output_type": "execute_result"
    }
   ],
   "source": [
    "soup.find_all(\"div\", attrs={\"class\": \"tweet\"})"
   ]
  },
  {
   "cell_type": "code",
   "execution_count": 211,
   "metadata": {},
   "outputs": [
    {
     "name": "stdout",
     "output_type": "stream",
     "text": [
      "None\n"
     ]
    }
   ],
   "source": [
    "<div class=\"css-1dbjc4n r-18u37iz\" data-testid=\"tweet\"><div class=\"css-1dbjc4n r-1awozwy r-18kxxzh r-zso239\" style=\"flex-basis: 49px;\"><div class=\"css-1dbjc4n r-18kxxzh r-1wbh5a2 r-13qz1uu\"><div class=\"css-1dbjc4n r-1wbh5a2 r-dnmrzs\"><a href=\"/MarsWxReport\" role=\"link\" data-focusable=\"true\" class=\"css-4rbku5 css-18t94o4 css-1dbjc4n r-sdzlij r-1loqt21 r-1adg3ll r-ahm1il r-1ny4l3l r-1udh08x r-o7ynqc r-6416eg r-13qz1uu\"><div class=\"css-1dbjc4n r-1adg3ll r-1udh08x\" style=\"\"><div class=\"r-1adg3ll r-13qz1uu\" style=\"padding-bottom: 100%;\"></div><div class=\"r-1p0dtai r-1pi2tsx r-1d2f490 r-u8s1d r-ipm5af r-13qz1uu\"><div aria-label=\"\" class=\"css-1dbjc4n r-sdzlij r-1p0dtai r-1mlwlqe r-1d2f490 r-1udh08x r-u8s1d r-zchlnj r-ipm5af r-417010\"><div class=\"css-1dbjc4n r-1niwhzg r-vvn4in r-u6sd8q r-4gszlv r-1p0dtai r-1pi2tsx r-1d2f490 r-u8s1d r-zchlnj r-ipm5af r-13qz1uu r-1wyyakw\" style=\"background-image: url(&quot;https://pbs.twimg.com/profile_images/2552209293/220px-Mars_atmosphere_bigger.jpg&quot;);\"></div><img alt=\"\" draggable=\"true\" src=\"https://pbs.twimg.com/profile_images/2552209293/220px-Mars_atmosphere_bigger.jpg\" class=\"css-9pa8cd\"></div></div></div><div class=\"css-1dbjc4n r-1twgtwe r-sdzlij r-rs99b7 r-1p0dtai r-1mi75qu r-1d2f490 r-1ny4l3l r-u8s1d r-zchlnj r-ipm5af r-o7ynqc r-6416eg\"></div></a></div></div></div><div class=\"css-1dbjc4n r-1iusvr4 r-16y2uox r-1777fci r-1mi0q7o\"><div class=\"css-1dbjc4n\"><div class=\"css-1dbjc4n r-zl2h9q\"><div class=\"css-1dbjc4n r-1awozwy r-18u37iz r-1wtj0ep\"><div class=\"css-1dbjc4n r-1d09ksm r-18u37iz r-1wbh5a2\"><div class=\"css-1dbjc4n r-1wbh5a2 r-dnmrzs\"><a href=\"/MarsWxReport\" role=\"link\" data-focusable=\"true\" class=\"css-4rbku5 css-18t94o4 css-1dbjc4n r-1loqt21 r-1wbh5a2 r-dnmrzs r-1ny4l3l\"><div class=\"css-1dbjc4n r-1awozwy r-18u37iz r-1wbh5a2 r-dnmrzs r-1ny4l3l\"><div class=\"css-1dbjc4n r-1awozwy r-18u37iz r-dnmrzs\"><div dir=\"auto\" class=\"css-901oao css-bfa6kz r-hkyrab r-1qd0xha r-a023e6 r-vw2c0b r-ad9z0x r-bcqeeo r-3s2u2q r-qvutc0\"><span class=\"css-901oao css-16my406 r-1qd0xha r-ad9z0x r-bcqeeo r-qvutc0\"><span class=\"css-901oao css-16my406 r-1qd0xha r-ad9z0x r-bcqeeo r-qvutc0\">Mars Weather</span></span></div><div dir=\"auto\" class=\"css-901oao r-hkyrab r-18u37iz r-1q142lx r-1qd0xha r-a023e6 r-16dba41 r-ad9z0x r-bcqeeo r-qvutc0\"></div></div><div class=\"css-1dbjc4n r-18u37iz r-1wbh5a2 r-1f6r7vd\"><div dir=\"ltr\" class=\"css-901oao css-bfa6kz r-1re7ezh r-18u37iz r-1qd0xha r-a023e6 r-16dba41 r-ad9z0x r-bcqeeo r-qvutc0\"><span class=\"css-901oao css-16my406 r-1qd0xha r-ad9z0x r-bcqeeo r-qvutc0\">@MarsWxReport</span></div></div></div></a></div><div dir=\"auto\" aria-hidden=\"true\" class=\"css-901oao r-1re7ezh r-1q142lx r-1qd0xha r-a023e6 r-16dba41 r-ad9z0x r-bcqeeo r-ou255f r-qvutc0\"><span class=\"css-901oao css-16my406 r-1qd0xha r-ad9z0x r-bcqeeo r-qvutc0\">·</span></div><a href=\"/MarsWxReport/status/1291597742586945538\" dir=\"auto\" aria-label=\"Aug 7\" role=\"link\" data-focusable=\"true\" class=\"r-1re7ezh r-1loqt21 r-1q142lx r-1qd0xha r-a023e6 r-16dba41 r-ad9z0x r-bcqeeo r-3s2u2q r-qvutc0 css-4rbku5 css-18t94o4 css-901oao\" title=\"12:51 AM · Aug 7, 2020\"><time datetime=\"2020-08-07T04:51:13.000Z\">Aug 7</time></a></div><div class=\"css-1dbjc4n r-18u37iz r-1h0z5md r-1joea0r\"><div aria-haspopup=\"true\" aria-label=\"More\" role=\"button\" data-focusable=\"true\" tabindex=\"0\" class=\"css-18t94o4 css-1dbjc4n r-1777fci r-11cpok1 r-1ny4l3l r-bztko3 r-lrvibr\" data-testid=\"caret\"><div dir=\"ltr\" class=\"css-901oao r-1awozwy r-1re7ezh r-6koalj r-1qd0xha r-a023e6 r-16dba41 r-1h0z5md r-ad9z0x r-bcqeeo r-o7ynqc r-clp7b1 r-3s2u2q r-qvutc0\"><div class=\"css-1dbjc4n r-xoduu5\"><div class=\"css-1dbjc4n r-1niwhzg r-sdzlij r-1p0dtai r-xoduu5 r-1d2f490 r-podbf7 r-u8s1d r-zchlnj r-ipm5af r-o7ynqc r-6416eg\"></div><svg viewBox=\"0 0 24 24\" class=\"r-4qtqp9 r-yyyyoo r-ip8ujx r-dnmrzs r-bnwqim r-1plcrui r-lrvibr r-27tl0q\"><g><path d=\"M20.207 8.147c-.39-.39-1.023-.39-1.414 0L12 14.94 5.207 8.147c-.39-.39-1.023-.39-1.414 0-.39.39-.39 1.023 0 1.414l7.5 7.5c.195.196.45.294.707.294s.512-.098.707-.293l7.5-7.5c.39-.39.39-1.022 0-1.413z\"></path></g></svg></div></div></div></div></div></div></div><div class=\"css-1dbjc4n\"><div class=\"css-1dbjc4n\"><div lang=\"en\" dir=\"auto\" class=\"css-901oao r-hkyrab r-1qd0xha r-a023e6 r-16dba41 r-ad9z0x r-bcqeeo r-bnwqim r-qvutc0\"><span class=\"css-901oao css-16my406 r-1qd0xha r-ad9z0x r-bcqeeo r-qvutc0\">InSight sol 602 (2020-08-05) low -91.5ºC (-132.6ºF) high -9.5ºC (14.9ºF)\n",
    "winds from the W at 5.4 m/s (12.2 mph) gusting to 17.0 m/s (38.1 mph)\n",
    "pressure at 7.90 hPa</span></div></div><div class=\"css-1dbjc4n\"><div class=\"css-1dbjc4n\"><div class=\"css-1dbjc4n r-1udh08x\"><div class=\"css-1dbjc4n r-9x6qib r-1ylenci r-1phboty r-rs99b7 r-156q2ks r-1udh08x\"><div class=\"css-1dbjc4n\"><a href=\"/MarsWxReport/status/1291597742586945538/photo/1\" role=\"link\" data-focusable=\"true\" class=\"css-4rbku5 css-18t94o4 css-1dbjc4n r-1loqt21 r-1ny4l3l\"><div class=\"css-1dbjc4n r-1adg3ll r-1udh08x\" style=\"\"><div class=\"r-1adg3ll r-13qz1uu\" style=\"padding-bottom: 56.25%;\"></div><div class=\"r-1p0dtai r-1pi2tsx r-1d2f490 r-u8s1d r-ipm5af r-13qz1uu\"><div aria-label=\"Image\" class=\"css-1dbjc4n r-1p0dtai r-1mlwlqe r-1d2f490 r-11wrixw r-61z16t r-1udh08x r-u8s1d r-zchlnj r-ipm5af r-417010\" data-testid=\"tweetPhoto\" style=\"margin-bottom: 0px; margin-top: 0px;\"><div class=\"css-1dbjc4n r-1niwhzg r-vvn4in r-u6sd8q r-4gszlv r-1p0dtai r-1pi2tsx r-1d2f490 r-u8s1d r-zchlnj r-ipm5af r-13qz1uu r-1wyyakw\" style=\"background-image: url(&quot;https://pbs.twimg.com/media/EeytTIeXYAIoFJy?format=png&amp;name=240x240&quot;);\"></div><img alt=\"Image\" draggable=\"true\" src=\"https://pbs.twimg.com/media/EeytTIeXYAIoFJy?format=png&amp;name=240x240\" class=\"css-9pa8cd\"></div></div></div></a></div></div></div></div></div><div aria-label=\"3 Retweets, 23 likes\" role=\"group\" class=\"css-1dbjc4n r-18u37iz r-1wtj0ep r-156q2ks r-1mdbhws\"><div class=\"css-1dbjc4n r-1iusvr4 r-18u37iz r-16y2uox r-1h0z5md\"><div aria-label=\"Reply\" role=\"button\" data-focusable=\"true\" tabindex=\"0\" class=\"css-18t94o4 css-1dbjc4n r-1777fci r-11cpok1 r-1ny4l3l r-bztko3 r-lrvibr\" data-testid=\"reply\"><div dir=\"ltr\" class=\"css-901oao r-1awozwy r-1re7ezh r-6koalj r-1qd0xha r-a023e6 r-16dba41 r-1h0z5md r-ad9z0x r-bcqeeo r-o7ynqc r-clp7b1 r-3s2u2q r-qvutc0\"><div class=\"css-1dbjc4n r-xoduu5\"><div class=\"css-1dbjc4n r-1niwhzg r-sdzlij r-1p0dtai r-xoduu5 r-1d2f490 r-xf4iuw r-u8s1d r-zchlnj r-ipm5af r-o7ynqc r-6416eg\"></div><svg viewBox=\"0 0 24 24\" class=\"r-4qtqp9 r-yyyyoo r-1xvli5t r-dnmrzs r-bnwqim r-1plcrui r-lrvibr r-1hdv0qi\"><g><path d=\"M14.046 2.242l-4.148-.01h-.002c-4.374 0-7.8 3.427-7.8 7.802 0 4.098 3.186 7.206 7.465 7.37v3.828c0 .108.044.286.12.403.142.225.384.347.632.347.138 0 .277-.038.402-.118.264-.168 6.473-4.14 8.088-5.506 1.902-1.61 3.04-3.97 3.043-6.312v-.017c-.006-4.367-3.43-7.787-7.8-7.788zm3.787 12.972c-1.134.96-4.862 3.405-6.772 4.643V16.67c0-.414-.335-.75-.75-.75h-.396c-3.66 0-6.318-2.476-6.318-5.886 0-3.534 2.768-6.302 6.3-6.302l4.147.01h.002c3.532 0 6.3 2.766 6.302 6.296-.003 1.91-.942 3.844-2.514 5.176z\"></path></g></svg></div></div></div></div><div class=\"css-1dbjc4n r-1iusvr4 r-18u37iz r-16y2uox r-1h0z5md\"><div aria-label=\"3 Retweets. Retweet\" role=\"button\" data-focusable=\"true\" tabindex=\"0\" class=\"css-18t94o4 css-1dbjc4n r-1777fci r-11cpok1 r-1ny4l3l r-bztko3 r-lrvibr\" data-testid=\"retweet\"><div dir=\"ltr\" class=\"css-901oao r-1awozwy r-1re7ezh r-6koalj r-1qd0xha r-a023e6 r-16dba41 r-1h0z5md r-ad9z0x r-bcqeeo r-o7ynqc r-clp7b1 r-3s2u2q r-qvutc0\"><div class=\"css-1dbjc4n r-xoduu5\"><div class=\"css-1dbjc4n r-1niwhzg r-sdzlij r-1p0dtai r-xoduu5 r-1d2f490 r-xf4iuw r-u8s1d r-zchlnj r-ipm5af r-o7ynqc r-6416eg\"></div><svg viewBox=\"0 0 24 24\" class=\"r-4qtqp9 r-yyyyoo r-1xvli5t r-dnmrzs r-bnwqim r-1plcrui r-lrvibr r-1hdv0qi\"><g><path d=\"M23.77 15.67c-.292-.293-.767-.293-1.06 0l-2.22 2.22V7.65c0-2.068-1.683-3.75-3.75-3.75h-5.85c-.414 0-.75.336-.75.75s.336.75.75.75h5.85c1.24 0 2.25 1.01 2.25 2.25v10.24l-2.22-2.22c-.293-.293-.768-.293-1.06 0s-.294.768 0 1.06l3.5 3.5c.145.147.337.22.53.22s.383-.072.53-.22l3.5-3.5c.294-.292.294-.767 0-1.06zm-10.66 3.28H7.26c-1.24 0-2.25-1.01-2.25-2.25V6.46l2.22 2.22c.148.147.34.22.532.22s.384-.073.53-.22c.293-.293.293-.768 0-1.06l-3.5-3.5c-.293-.294-.768-.294-1.06 0l-3.5 3.5c-.294.292-.294.767 0 1.06s.767.293 1.06 0l2.22-2.22V16.7c0 2.068 1.683 3.75 3.75 3.75h5.85c.414 0 .75-.336.75-.75s-.337-.75-.75-.75z\"></path></g></svg></div><div class=\"css-1dbjc4n r-xoduu5 r-1udh08x\"><span class=\"css-901oao css-16my406 r-1qd0xha r-n6v787 r-1sf4r6n r-1n0xq6e r-bcqeeo r-d3hbe1 r-1wgg2b2 r-axxi2z r-qvutc0\"><span class=\"css-901oao css-16my406 r-1qd0xha r-ad9z0x r-bcqeeo r-qvutc0\">3</span></span></div></div></div></div><div class=\"css-1dbjc4n r-1iusvr4 r-18u37iz r-16y2uox r-1h0z5md\"><div aria-label=\"23 Likes. Like\" role=\"button\" data-focusable=\"true\" tabindex=\"0\" class=\"css-18t94o4 css-1dbjc4n r-1777fci r-11cpok1 r-1ny4l3l r-bztko3 r-lrvibr\" data-testid=\"like\"><div dir=\"ltr\" class=\"css-901oao r-1awozwy r-1re7ezh r-6koalj r-1qd0xha r-a023e6 r-16dba41 r-1h0z5md r-ad9z0x r-bcqeeo r-o7ynqc r-clp7b1 r-3s2u2q r-qvutc0\"><div class=\"css-1dbjc4n r-xoduu5\"><div class=\"css-1dbjc4n r-1niwhzg r-sdzlij r-1p0dtai r-xoduu5 r-1d2f490 r-xf4iuw r-u8s1d r-zchlnj r-ipm5af r-o7ynqc r-6416eg\"></div><svg viewBox=\"0 0 24 24\" class=\"r-4qtqp9 r-yyyyoo r-1xvli5t r-dnmrzs r-bnwqim r-1plcrui r-lrvibr r-1hdv0qi\"><g><path d=\"M12 21.638h-.014C9.403 21.59 1.95 14.856 1.95 8.478c0-3.064 2.525-5.754 5.403-5.754 2.29 0 3.83 1.58 4.646 2.73.814-1.148 2.354-2.73 4.645-2.73 2.88 0 5.404 2.69 5.404 5.755 0 6.376-7.454 13.11-10.037 13.157H12zM7.354 4.225c-2.08 0-3.903 1.988-3.903 4.255 0 5.74 7.034 11.596 8.55 11.658 1.518-.062 8.55-5.917 8.55-11.658 0-2.267-1.823-4.255-3.903-4.255-2.528 0-3.94 2.936-3.952 2.965-.23.562-1.156.562-1.387 0-.014-.03-1.425-2.965-3.954-2.965z\"></path></g></svg></div><div class=\"css-1dbjc4n r-xoduu5 r-1udh08x\"><span class=\"css-901oao css-16my406 r-1qd0xha r-n6v787 r-1sf4r6n r-1n0xq6e r-bcqeeo r-d3hbe1 r-1wgg2b2 r-axxi2z r-qvutc0\"><span class=\"css-901oao css-16my406 r-1qd0xha r-ad9z0x r-bcqeeo r-qvutc0\">23</span></span></div></div></div></div><div class=\"css-1dbjc4n r-1mlwlqe r-18u37iz r-18kxxzh r-1h0z5md\"><div aria-expanded=\"false\" aria-haspopup=\"true\" aria-label=\"Share Tweet\" role=\"button\" data-focusable=\"true\" tabindex=\"0\" class=\"css-18t94o4 css-1dbjc4n r-1777fci r-11cpok1 r-1ny4l3l r-bztko3 r-lrvibr\"><div dir=\"ltr\" class=\"css-901oao r-1awozwy r-1re7ezh r-6koalj r-1qd0xha r-a023e6 r-16dba41 r-1h0z5md r-ad9z0x r-bcqeeo r-o7ynqc r-clp7b1 r-3s2u2q r-qvutc0\"><div class=\"css-1dbjc4n r-xoduu5\"><div class=\"css-1dbjc4n r-1niwhzg r-sdzlij r-1p0dtai r-xoduu5 r-1d2f490 r-xf4iuw r-u8s1d r-zchlnj r-ipm5af r-o7ynqc r-6416eg\"></div><svg viewBox=\"0 0 24 24\" class=\"r-4qtqp9 r-yyyyoo r-1xvli5t r-dnmrzs r-bnwqim r-1plcrui r-lrvibr r-1hdv0qi\"><g><path d=\"M17.53 7.47l-5-5c-.293-.293-.768-.293-1.06 0l-5 5c-.294.293-.294.768 0 1.06s.767.294 1.06 0l3.72-3.72V15c0 .414.336.75.75.75s.75-.336.75-.75V4.81l3.72 3.72c.146.147.338.22.53.22s.384-.072.53-.22c.293-.293.293-.767 0-1.06z\"></path><path d=\"M19.708 21.944H4.292C3.028 21.944 2 20.916 2 19.652V14c0-.414.336-.75.75-.75s.75.336.75.75v5.652c0 .437.355.792.792.792h15.416c.437 0 .792-.355.792-.792V14c0-.414.336-.75.75-.75s.75.336.75.75v5.652c0 1.264-1.028 2.292-2.292 2.292z\"></path></g></svg></div></div></div></div></div></div></div></div>"
   ]
  },
  {
   "cell_type": "code",
   "execution_count": 221,
   "metadata": {},
   "outputs": [],
   "source": [
    "soup.find('div', class_=\"css-1dbjc4n r-18u37iz\")"
   ]
  },
  {
   "cell_type": "code",
   "execution_count": 218,
   "metadata": {
    "scrolled": true
   },
   "outputs": [
    {
     "data": {
      "text/plain": [
       "'Don’t miss what’s happening'"
      ]
     },
     "execution_count": 218,
     "metadata": {},
     "output_type": "execute_result"
    }
   ],
   "source": [
    "soup.find_all('span', class_=\"css-901oao css-16my406 r-1qd0xha r-ad9z0x r-bcqeeo r-qvutc0\")"
   ]
  },
  {
   "cell_type": "code",
   "execution_count": 205,
   "metadata": {},
   "outputs": [
    {
     "name": "stdout",
     "output_type": "stream",
     "text": [
      "None\n"
     ]
    }
   ],
   "source": [
    "# finding first tweet with data-name 'Mars Weather'\n",
    "marsWeatherTweet = soup.find('div', attrs={\"class\": \"tweet\", \"data-name\": \"Mars Weather\"})\n",
    "print(marsWeatherTweet)"
   ]
  },
  {
   "cell_type": "code",
   "execution_count": 206,
   "metadata": {
    "scrolled": true
   },
   "outputs": [
    {
     "ename": "AttributeError",
     "evalue": "'NoneType' object has no attribute 'find'",
     "output_type": "error",
     "traceback": [
      "\u001b[1;31m---------------------------------------------------------------------------\u001b[0m",
      "\u001b[1;31mAttributeError\u001b[0m                            Traceback (most recent call last)",
      "\u001b[1;32m<ipython-input-206-881c9d6b1ea0>\u001b[0m in \u001b[0;36m<module>\u001b[1;34m\u001b[0m\n\u001b[0;32m      3\u001b[0m \u001b[1;33m\u001b[0m\u001b[0m\n\u001b[0;32m      4\u001b[0m \u001b[1;31m# search for p tag within tweet text\u001b[0m\u001b[1;33m\u001b[0m\u001b[1;33m\u001b[0m\u001b[1;33m\u001b[0m\u001b[0m\n\u001b[1;32m----> 5\u001b[1;33m \u001b[0mmarsWeather\u001b[0m \u001b[1;33m=\u001b[0m \u001b[0mmarsWeatherTweet\u001b[0m\u001b[1;33m.\u001b[0m\u001b[0mfind\u001b[0m\u001b[1;33m(\u001b[0m\u001b[1;34m'p'\u001b[0m\u001b[1;33m,\u001b[0m \u001b[1;34m'tweet-text'\u001b[0m\u001b[1;33m)\u001b[0m\u001b[1;33m.\u001b[0m\u001b[0mget_text\u001b[0m\u001b[1;33m(\u001b[0m\u001b[1;33m)\u001b[0m\u001b[1;33m\u001b[0m\u001b[1;33m\u001b[0m\u001b[0m\n\u001b[0m\u001b[0;32m      6\u001b[0m \u001b[0mmarsWeather\u001b[0m\u001b[1;33m\u001b[0m\u001b[1;33m\u001b[0m\u001b[0m\n",
      "\u001b[1;31mAttributeError\u001b[0m: 'NoneType' object has no attribute 'find'"
     ]
    }
   ],
   "source": [
    "\n",
    "# finding first tweet with data-name 'Mars Weather'\n",
    "marsWeatherTweet = soup.find('div', attrs={\"class\": \"tweet\", \"data-name\": \"Mars Weather\"})\n",
    "\n",
    "# search for p tag within tweet text\n",
    "marsWeather = marsWeatherTweet.find('p', 'tweet-text').get_text()\n",
    "marsWeather"
   ]
  },
  {
   "cell_type": "code",
   "execution_count": null,
   "metadata": {
    "scrolled": true
   },
   "outputs": [],
   "source": [
    "<span class=\"css-901oao css-16my406 r-1qd0xha r-ad9z0x r-bcqeeo r-qvutc0\">InSight sol 602 (2020-08-05) low -91.5ºC (-132.6ºF) high -9.5ºC (14.9ºF)\n",
    "winds from the W at 5.4 m/s (12.2 mph) gusting to 17.0 m/s (38.1 mph)\n",
    "pressure at 7.90 hPa</span>"
   ]
  },
  {
   "cell_type": "code",
   "execution_count": null,
   "metadata": {},
   "outputs": [],
   "source": [
    "# get latest news articles\n",
    "title = soup.find_all('div', class_='content_title')[1].text\n",
    "article = soup.find('div', class_='article_teaser_body').text\n",
    "date = soup.find('div', class_='list_date').text"
   ]
  },
  {
   "cell_type": "code",
   "execution_count": null,
   "metadata": {},
   "outputs": [],
   "source": []
  },
  {
   "cell_type": "markdown",
   "metadata": {},
   "source": [
    "## Mars Facts"
   ]
  },
  {
   "cell_type": "markdown",
   "metadata": {},
   "source": [
    "https://space-facts.com/mars/"
   ]
  },
  {
   "cell_type": "markdown",
   "metadata": {},
   "source": [
    "Use Pandas to scrape the table containing facts about the planet including Diameter, Mass, etc.<br>\n",
    "Convert the data to a HTML table string."
   ]
  },
  {
   "cell_type": "code",
   "execution_count": null,
   "metadata": {},
   "outputs": [],
   "source": [
    "# get url of the table to be scraped\n",
    "url4 = 'https://space-facts.com/mars/'"
   ]
  },
  {
   "cell_type": "code",
   "execution_count": null,
   "metadata": {
    "scrolled": true
   },
   "outputs": [],
   "source": [
    "# use pandas to read the tables\n",
    "tables = pd.read_html(url4)\n",
    "tables"
   ]
  },
  {
   "cell_type": "code",
   "execution_count": null,
   "metadata": {
    "scrolled": true
   },
   "outputs": [],
   "source": [
    "df= tables[0]\n",
    "df.columns = ['Features','Values']\n",
    "df"
   ]
  },
  {
   "cell_type": "code",
   "execution_count": null,
   "metadata": {},
   "outputs": [],
   "source": [
    "df.to_html('Mars_Facts.html')"
   ]
  },
  {
   "cell_type": "code",
   "execution_count": null,
   "metadata": {},
   "outputs": [],
   "source": []
  },
  {
   "cell_type": "markdown",
   "metadata": {},
   "source": [
    "## Mars Hemispheres"
   ]
  },
  {
   "cell_type": "markdown",
   "metadata": {},
   "source": [
    "https://astrogeology.usgs.gov/search/results?q=hemisphere+enhanced&k1=target&v1=Mars"
   ]
  },
  {
   "cell_type": "markdown",
   "metadata": {},
   "source": [
    "Obtain high resolution images for each of Mar's hemispheres from USGS Astrogeology site.<br>\n",
    "Save both the image url string for the full resolution hemisphere image, and the Hemisphere title containing the hemisphere name. Use a Python dictionary to store the data using the keys img_url and title.<br>"
   ]
  },
  {
   "cell_type": "code",
   "execution_count": null,
   "metadata": {},
   "outputs": [],
   "source": [
    "# set browser with url of Mars Hemispheres\n",
    "executable_path = {'executable_path': 'chromedriver.exe'}\n",
    "browser = Browser('chrome', **executable_path, headless=False)\n",
    "url5 = 'https://astrogeology.usgs.gov/search/results?q=hemisphere+enhanced&k1=target&v1=Mars'\n",
    "browser.visit(url5)"
   ]
  },
  {
   "cell_type": "code",
   "execution_count": null,
   "metadata": {},
   "outputs": [],
   "source": [
    "# check list of all link to mars hemispheres pages\n",
    "links = browser.find_by_css(\"a.product-item h3\")\n",
    "\n",
    "for link in links:\n",
    "    print(link.text)"
   ]
  },
  {
   "cell_type": "code",
   "execution_count": null,
   "metadata": {},
   "outputs": [],
   "source": [
    "#Create dictionary of mars hemisphere images\n",
    "HemisphereImg_Dict = []\n",
    "\n",
    "for i in range(0, len(links)):\n",
    "    # navigate to the specific page\n",
    "    link = browser.find_by_css(\"a.product-item h3\")[i]\n",
    "    print(link.text)\n",
    "    link.click()                 \n",
    "\n",
    "    # scrape\n",
    "    soup = bs(browser.html, 'lxml')   # set up parser \n",
    "    image_ulr = soup.find('img', class_=\"wide-image\")['src']   # get image's ulr\n",
    "    title = soup.find('h2').text                               # get title\n",
    "    \n",
    "    # put in dictionary\n",
    "    image_dict = {\"Image_ULR\": image_ulr,   \n",
    "                  \"Title\":title}            \n",
    "    HemisphereImg_Dict.append(image_dict)       # append dict to list\n",
    "    \n",
    "    # navigate to previous page      \n",
    "    browser.back()                              "
   ]
  },
  {
   "cell_type": "code",
   "execution_count": null,
   "metadata": {},
   "outputs": [],
   "source": [
    "# close browser\n",
    "browser.quit()"
   ]
  },
  {
   "cell_type": "code",
   "execution_count": null,
   "metadata": {},
   "outputs": [],
   "source": [
    "HemisphereImg_Dict"
   ]
  },
  {
   "cell_type": "code",
   "execution_count": null,
   "metadata": {},
   "outputs": [],
   "source": []
  }
 ],
 "metadata": {
  "kernelspec": {
   "display_name": "Python 3",
   "language": "python",
   "name": "python3"
  },
  "language_info": {
   "codemirror_mode": {
    "name": "ipython",
    "version": 3
   },
   "file_extension": ".py",
   "mimetype": "text/x-python",
   "name": "python",
   "nbconvert_exporter": "python",
   "pygments_lexer": "ipython3",
   "version": "3.7.6"
  }
 },
 "nbformat": 4,
 "nbformat_minor": 4
}
